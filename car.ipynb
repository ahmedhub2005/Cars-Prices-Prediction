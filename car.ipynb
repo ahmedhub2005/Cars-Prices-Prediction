{
 "cells": [
  {
   "cell_type": "code",
   "execution_count": null,
   "id": "2f75f799",
   "metadata": {},
   "outputs": [],
   "source": [
    "import pandas as pd\n",
    "import numpy as np\n",
    "import re\n",
    "import matplotlib.pyplot as plt\n",
    "from sklearn.ensemble import RandomForestRegressor\n",
    "from sklearn.ensemble import GradientBoostingRegressor\n",
    "from sklearn.linear_model import LinearRegression\n",
    "from sklearn.tree import DecisionTreeRegressor\n",
    "from sklearn.neighbors import KNeighborsRegressor\n",
    "from sklearn.preprocessing import StandardScaler\n",
    "from sklearn import model_selection\n",
    "import seaborn as sns\n",
    "from sklearn.metrics import r2_score\n",
    "from sklearn.model_selection import train_test_split\n",
    "import pickle"
   ]
  },
  {
   "cell_type": "code",
   "execution_count": null,
   "id": "92d2b05e",
   "metadata": {},
   "outputs": [],
   "source": [
    "data=pd.read_csv(r\"Cars_Dataset_Cleaned.csv\")"
   ]
  },
  {
   "cell_type": "code",
   "execution_count": null,
   "id": "9edf6d45",
   "metadata": {},
   "outputs": [],
   "source": [
    "data.describe()"
   ]
  },
  {
   "cell_type": "code",
   "execution_count": null,
   "id": "5319d60d",
   "metadata": {},
   "outputs": [],
   "source": [
    "data.info()"
   ]
  },
  {
   "cell_type": "code",
   "execution_count": null,
   "id": "c4856d20",
   "metadata": {},
   "outputs": [],
   "source": []
  },
  {
   "cell_type": "code",
   "execution_count": null,
   "id": "30e5787a",
   "metadata": {},
   "outputs": [],
   "source": [
    "data.dtypes"
   ]
  },
  {
   "cell_type": "code",
   "execution_count": null,
   "id": "42a52859",
   "metadata": {},
   "outputs": [],
   "source": [
    "data.sample(10)"
   ]
  },
  {
   "cell_type": "markdown",
   "id": "e8ab4101",
   "metadata": {},
   "source": [
    "# cleaning CC/Battery Capacity for ML Modeles"
   ]
  },
  {
   "cell_type": "code",
   "execution_count": null,
   "id": "85dfd45c",
   "metadata": {},
   "outputs": [],
   "source": [
    "data=data.drop([\"CC/Battery Capacity\"] , axis=1)\n"
   ]
  },
  {
   "cell_type": "code",
   "execution_count": null,
   "id": "5ee8b9c1",
   "metadata": {},
   "outputs": [],
   "source": [
    "data.isnull().sum()"
   ]
  },
  {
   "cell_type": "code",
   "execution_count": null,
   "id": "ecb620c4",
   "metadata": {},
   "outputs": [],
   "source": [
    "data[\"Cleaned Capacity\"].fillna(data[\"Cleaned Capacity\"].mean() , inplace=True)\n",
    "data[\"Torque\"].fillna(data[\"Torque\"].mean() , inplace=True)\n",
    "data[\"Cars Prices\"].fillna(data[\"Cars Prices\"].mean() , inplace=True)\n",
    "data[\"Performance(0 - 100 )KM/H\"].fillna(data[\"Performance(0 - 100 )KM/H\"].mean() , inplace=True)"
   ]
  },
  {
   "cell_type": "code",
   "execution_count": null,
   "id": "98c152c7",
   "metadata": {},
   "outputs": [],
   "source": [
    "category_sales = data.groupby('Company Names')['Cars Prices'].sum()\n",
    "category_sales.plot(kind='bar')\n",
    "plt.title('Cars prices')\n",
    "plt.xlabel('Campany Names')\n",
    "plt.ylabel('Cars Prices($)')\n",
    "plt.show()"
   ]
  },
  {
   "cell_type": "markdown",
   "id": "b1539858",
   "metadata": {},
   "source": [
    "##Data Processing For ML"
   ]
  },
  {
   "cell_type": "code",
   "execution_count": null,
   "id": "0e0f0fb5",
   "metadata": {},
   "outputs": [],
   "source": [
    "\n",
    "data = pd.get_dummies(data, columns=[\"Company Names\", \"Cars Names\", \"Engines\", \"Fuel Types\"], dtype=int)\n",
    "\n",
    "\n"
   ]
  },
  {
   "cell_type": "code",
   "execution_count": null,
   "id": "11edcb98",
   "metadata": {},
   "outputs": [],
   "source": [
    "data.isna"
   ]
  },
  {
   "cell_type": "code",
   "execution_count": null,
   "id": "4202a0b2",
   "metadata": {},
   "outputs": [],
   "source": [
    "def extract_number(value):\n",
    "    try:\n",
    "        return float(''.join(c for c in str(value) if c.isdigit() or c == '.'))\n",
    "    except:\n",
    "        return None\n",
    "\n",
    "data[\"Total_Speed\"] = data[\"Total Speed\"].apply(extract_number)  \n",
    "data[\"Performance\"] = data[\"Performance(0 - 100 )KM/H\"].apply(extract_number)\n",
    "\n",
    "\n",
    "data=data.drop([ \"Total Speed\" , \"Performance(0 - 100 )KM/H\"] , axis=1)\n",
    "y=data[\"Cars Prices\"]\n",
    "x=data.drop([\"Cars Prices\"] , axis=1)"
   ]
  },
  {
   "cell_type": "code",
   "execution_count": null,
   "id": "e86a5798",
   "metadata": {},
   "outputs": [],
   "source": [
    "\n",
    "scaler = StandardScaler()\n",
    "x = scaler.fit_transform(x)\n",
    "\n",
    "x_train , x_test , y_train , y_test =model_selection.train_test_split(x ,y , test_size=0.2,random_state=42 )\n",
    "print(x_train.shape , y_train.shape) , x_test , y_test\n",
    "\n",
    "\n",
    "modeles={\"RandomForestRegressor\":RandomForestRegressor() , \n",
    "         \"GradientBoostingRegressor\":GradientBoostingRegressor() ,\n",
    "         \"LinearRegression\" :LinearRegression(),\n",
    "         \"DecisionTreeRegressor\":DecisionTreeRegressor(),\n",
    "         \"KNeighborsRegressor\":KNeighborsRegressor()\n",
    "         }\n",
    "\n",
    "for name,x in modeles.items():\n",
    "    \n",
    "    x.fit(x_train,y_train)\n",
    "    y_pred=x.predict(x_train)\n",
    "\n",
    "    score=r2_score(y_train, y_pred)\n",
    "    print(f\"{name}  accuracy score is {score} \")"
   ]
  },
  {
   "cell_type": "code",
   "execution_count": null,
   "id": "297f9869",
   "metadata": {},
   "outputs": [],
   "source": [
    "best_model2=RandomForestRegressor()\n",
    "best_model2.fit(x_train,y_train)\n",
    "y_pre=best_model2.predict(x_test)\n",
    "score1=r2_score(y_test , y_pre)\n",
    "print(f\" RandomForestRegressor accuracy score is {score1}\")"
   ]
  },
  {
   "cell_type": "code",
   "execution_count": null,
   "id": "d44f362b",
   "metadata": {},
   "outputs": [],
   "source": [
    "best_model=DecisionTreeRegressor(max_depth=10 , min_samples_split=5 , random_state=42 )\n",
    "best_model.fit(x_train,y_train)\n",
    "y_pre=best_model.predict(x_test)\n",
    "score1=r2_score(y_test , y_pre)\n",
    "print(f\"DecisionTreeRegressor accuracy score is {score1}\")"
   ]
  },
  {
   "cell_type": "code",
   "execution_count": null,
   "id": "07b7adbc",
   "metadata": {},
   "outputs": [],
   "source": [
    "best_model1=LinearRegression()\n",
    "best_model1.fit(x_train,y_train)\n",
    "y_pre=best_model1.predict(x_test)\n",
    "score1=r2_score(y_test , y_pre)\n",
    "print(f\"LinearRegression accuracy score is {score1}\")"
   ]
  },
  {
   "cell_type": "markdown",
   "id": "87c368c9",
   "metadata": {},
   "source": [
    "##Now we can choose DecisionTreeRegressor to streamlit app"
   ]
  },
  {
   "cell_type": "code",
   "execution_count": null,
   "id": "8706dd5f",
   "metadata": {},
   "outputs": [],
   "source": [
    "filename='car prices.sav'\n",
    "pickle.dump(best_model , open(filename , 'wb') )\n",
    "pickle.dump(scaler, open('scaler.sav', 'wb'))\n",
    "\n",
    "with open('model_columns.pkl', 'wb') as f:\n",
    "    pickle.dump(data.drop(\"Cars Prices\", axis=1).columns.tolist(), f)\n",
    "\n"
   ]
  }
 ],
 "metadata": {
  "kernelspec": {
   "display_name": ".venv",
   "language": "python",
   "name": "python3"
  },
  "language_info": {
   "codemirror_mode": {
    "name": "ipython",
    "version": 3
   },
   "file_extension": ".py",
   "mimetype": "text/x-python",
   "name": "python",
   "nbconvert_exporter": "python",
   "pygments_lexer": "ipython3",
   "version": "3.11.9"
  }
 },
 "nbformat": 4,
 "nbformat_minor": 5
}
